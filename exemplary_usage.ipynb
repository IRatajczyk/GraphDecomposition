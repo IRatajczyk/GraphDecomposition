{
 "cells": [
  {
   "cell_type": "code",
   "execution_count": 2,
   "metadata": {},
   "outputs": [
    {
     "name": "stderr",
     "output_type": "stream",
     "text": [
      "c:\\Users\\igor\\anaconda3\\envs\\WPTG\\lib\\site-packages\\pyproj\\__init__.py:90: UserWarning: pyproj unable to set database path.\n",
      "  _pyproj_global_context_initialize()\n"
     ]
    }
   ],
   "source": [
    "from graph_decomposition import GraphDecompositionWrapper\n",
    "import matplotlib.pyplot as plt\n",
    "import osmnx as ox\n"
   ]
  },
  {
   "cell_type": "code",
   "execution_count": 4,
   "metadata": {},
   "outputs": [],
   "source": [
    "barcelona = ox.graph_from_xml('data/barcelona.osm')\n",
    "rome = ox.graph_from_xml('data/rome.osm')\n",
    "chicago = ox.graph_from_xml('data/chicago.osm')"
   ]
  },
  {
   "cell_type": "code",
   "execution_count": null,
   "metadata": {},
   "outputs": [],
   "source": [
    "gdw = GraphDecompositionWrapper(chicago)\n",
    "subgraphs, nodes_dict = gdw.decompose()"
   ]
  },
  {
   "cell_type": "code",
   "execution_count": null,
   "metadata": {},
   "outputs": [],
   "source": [
    "plt.hist(gdw._calculate_alphas(), 20)"
   ]
  },
  {
   "cell_type": "code",
   "execution_count": null,
   "metadata": {},
   "outputs": [],
   "source": [
    "plt.hist(gdw._calcluate_bethas(), 20)"
   ]
  }
 ],
 "metadata": {
  "kernelspec": {
   "display_name": "WPTG",
   "language": "python",
   "name": "python3"
  },
  "language_info": {
   "codemirror_mode": {
    "name": "ipython",
    "version": 3
   },
   "file_extension": ".py",
   "mimetype": "text/x-python",
   "name": "python",
   "nbconvert_exporter": "python",
   "pygments_lexer": "ipython3",
   "version": "3.8.13"
  },
  "orig_nbformat": 4,
  "vscode": {
   "interpreter": {
    "hash": "42fe00b64b01f2bab451862d995f64a734eb7708d589cd05273de4d395b3959d"
   }
  }
 },
 "nbformat": 4,
 "nbformat_minor": 2
}
